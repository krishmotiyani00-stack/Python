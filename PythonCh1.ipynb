{
  "nbformat": 4,
  "nbformat_minor": 0,
  "metadata": {
    "colab": {
      "provenance": [],
      "authorship_tag": "ABX9TyMgY6CVposIhcwfwvQvcFH5",
      "include_colab_link": true
    },
    "kernelspec": {
      "name": "python3",
      "display_name": "Python 3"
    },
    "language_info": {
      "name": "python"
    }
  },
  "cells": [
    {
      "cell_type": "markdown",
      "metadata": {
        "id": "view-in-github",
        "colab_type": "text"
      },
      "source": [
        "<a href=\"https://colab.research.google.com/github/krishmotiyani00-stack/Python/blob/main/PythonCh1.ipynb\" target=\"_parent\"><img src=\"https://colab.research.google.com/assets/colab-badge.svg\" alt=\"Open In Colab\"/></a>"
      ]
    },
    {
      "cell_type": "markdown",
      "source": [
        "**What is Python?**\n",
        "\n",
        "• High-level, interpreted programming language.\n",
        "\n",
        " • Easy to read and write → looks like English.\n",
        "\n",
        " • Used in AI, ML, web development, automation, data science.\n",
        "\n"
      ],
      "metadata": {
        "id": "pgpDG1Pa9R4p"
      }
    },
    {
      "cell_type": "markdown",
      "source": [
        "**Python Features**\n",
        "\n",
        "• Interpreted → Runs line by line (no compilation needed).\n",
        "\n",
        " • Dynamically typed → No need to declare variable types.\n",
        "\n",
        " • Cross-platform → Works on Windows, Mac, Linux.\n",
        "\n",
        " • Rich Libraries → NumPy, Pandas, TensorFlow, PyTorch, etc."
      ],
      "metadata": {
        "id": "P_aiVWSb9qyn"
      }
    },
    {
      "cell_type": "markdown",
      "source": [
        "Print Hello World"
      ],
      "metadata": {
        "id": "irCfzg_G64RA"
      }
    },
    {
      "cell_type": "code",
      "execution_count": null,
      "metadata": {
        "colab": {
          "base_uri": "https://localhost:8080/"
        },
        "id": "vXhIZNtBbCt5",
        "outputId": "5b5dcd32-8de1-46f8-fd8b-4f98d41b24a7"
      },
      "outputs": [
        {
          "output_type": "stream",
          "name": "stdout",
          "text": [
            "Hello World\n"
          ]
        }
      ],
      "source": [
        "print(\"Hello World\")"
      ]
    },
    {
      "cell_type": "markdown",
      "source": [
        "**Modules in Python**\n",
        "\n",
        "• A module is a file that contains Python code (functions, classes, variables).\n",
        "\n",
        " • Helps in code reusability and organization.\n",
        "\n",
        " • Two types of modules:\n",
        " 1. Built-in modules → already available in Python (e.g., math, os, random).\n",
        " 2. User-defined modules → created by programmers."
      ],
      "metadata": {
        "id": "pk6bruvf-yaM"
      }
    },
    {
      "cell_type": "code",
      "source": [
        "# built in\n",
        "import math\n",
        "print(math.sqrt(25))\n",
        "print(math.pi)"
      ],
      "metadata": {
        "colab": {
          "base_uri": "https://localhost:8080/"
        },
        "id": "QXSffm2f_GxC",
        "outputId": "570d9c96-1eb7-4da0-e390-d819cde249f9"
      },
      "execution_count": null,
      "outputs": [
        {
          "output_type": "stream",
          "name": "stdout",
          "text": [
            "5.0\n",
            "3.141592653589793\n"
          ]
        }
      ]
    },
    {
      "cell_type": "markdown",
      "source": [
        "**user-defined**\n",
        "\n",
        "File: my_module.py\n",
        "\n",
        "def greet(name):\n",
        "\n",
        "    return f\"Hello {name}\"\n",
        "\n",
        "Usage:\n",
        "\n",
        "import my_module\n",
        "\n",
        "print(my_module.greet(\"Krish\"))"
      ],
      "metadata": {
        "id": "P-9r7oikAKy1"
      }
    },
    {
      "cell_type": "markdown",
      "source": [
        "**Types of Module**\n",
        "\n",
        "• Built-in modules → Provided by Python (e.g., math, random, os).\n",
        "\n",
        " • External modules → Installed using pip (e.g., numpy, pandas, matplotlib).\n",
        "\n",
        " • User-defined modules → Written by us in .py files."
      ],
      "metadata": {
        "id": "uLExqiC2A6Wv"
      }
    },
    {
      "cell_type": "markdown",
      "source": [
        "PIP (Python Package Installer)\n",
        "\n",
        " • pip = tool to install external Python libraries.\n",
        "\n",
        " • Common commands:"
      ],
      "metadata": {
        "id": "HD270kMSBSUG"
      }
    },
    {
      "cell_type": "markdown",
      "source": [
        "pip install numpy        # install a package\n",
        "\n",
        "pip uninstall numpy      # remove package\n",
        "\n",
        "pip list                 # list installed packages\n",
        "\n",
        "pip show pandas          # info about package"
      ],
      "metadata": {
        "id": "fwA6c6edBgyV"
      }
    },
    {
      "cell_type": "code",
      "source": [
        "import numpy as np\n",
        "arr = np.array([1,2,3])\n",
        "print(arr)"
      ],
      "metadata": {
        "colab": {
          "base_uri": "https://localhost:8080/"
        },
        "id": "xnXH3PPHBmEC",
        "outputId": "4429531c-f55d-4829-f500-c6fa305608c8"
      },
      "execution_count": null,
      "outputs": [
        {
          "output_type": "stream",
          "name": "stdout",
          "text": [
            "[1 2 3]\n"
          ]
        }
      ]
    },
    {
      "cell_type": "markdown",
      "source": [
        "**Using Python As Calculator**\n",
        "\n",
        "Python can do arithmatic Calculation/operation directly"
      ],
      "metadata": {
        "id": "Fl9N1PN1BvhZ"
      }
    },
    {
      "cell_type": "code",
      "source": [
        "print(5 + 3)      # Addition → 8\n",
        "print(10 - 2)     # Subtraction → 8\n",
        "print(4 * 6)      # Multiplication → 24\n",
        "print(15 / 2)     # Division → 7.5\n",
        "print(15 // 2)    # Floor Division → 7\n",
        "print(2 ** 3)     # Power → 8\n",
        "print(17 % 5)     # Modulus → 2"
      ],
      "metadata": {
        "colab": {
          "base_uri": "https://localhost:8080/"
        },
        "id": "wdXuZwkmB-QC",
        "outputId": "d2fb6bf0-da67-4910-f7ec-319546a6fd2e"
      },
      "execution_count": null,
      "outputs": [
        {
          "output_type": "stream",
          "name": "stdout",
          "text": [
            "8\n",
            "8\n",
            "24\n",
            "7.5\n",
            "7\n",
            "8\n",
            "2\n"
          ]
        }
      ]
    },
    {
      "cell_type": "markdown",
      "source": [
        "**Comments In Python**\n",
        "\n",
        "• Comments are notes in the code, ignored by Python.\n",
        "\n",
        " • Types:\n",
        "\n",
        " • Single-line comment → #"
      ],
      "metadata": {
        "id": "E_xwwwN5CJAJ"
      }
    },
    {
      "cell_type": "code",
      "source": [
        "# this is a comment\n",
        "print(\"Hello Man\")"
      ],
      "metadata": {
        "id": "gwd66XTMCW6K"
      },
      "execution_count": null,
      "outputs": []
    },
    {
      "cell_type": "markdown",
      "source": [
        "Multi line comment-> triple quote ''' or \"\"\""
      ],
      "metadata": {
        "id": "q7ASQht7Ce-S"
      }
    },
    {
      "cell_type": "code",
      "source": [
        "\"\"\"\n",
        "This is\n",
        "Multi line\n",
        "comment\n",
        "\"\"\""
      ],
      "metadata": {
        "id": "ITKS4SkjCqkE"
      },
      "execution_count": null,
      "outputs": []
    }
  ]
}